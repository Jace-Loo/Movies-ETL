{
 "cells": [
  {
   "cell_type": "code",
   "execution_count": 2,
   "id": "61a961c7-fda1-4c03-9818-3e8892ff1c1d",
   "metadata": {},
   "outputs": [],
   "source": [
    "import pandas as pd"
   ]
  },
  {
   "cell_type": "code",
   "execution_count": 3,
   "id": "fb6ca023-eb01-43fc-bee5-ce17e31a3ff0",
   "metadata": {},
   "outputs": [],
   "source": [
    "file_dir = 'Movies-ETL/'"
   ]
  },
  {
   "cell_type": "code",
   "execution_count": 18,
   "id": "db85a8e5-0bae-4480-ac4e-8ede5163cc74",
   "metadata": {},
   "outputs": [
    {
     "data": {
      "text/html": [
       "<div>\n",
       "<style scoped>\n",
       "    .dataframe tbody tr th:only-of-type {\n",
       "        vertical-align: middle;\n",
       "    }\n",
       "\n",
       "    .dataframe tbody tr th {\n",
       "        vertical-align: top;\n",
       "    }\n",
       "\n",
       "    .dataframe thead th {\n",
       "        text-align: right;\n",
       "    }\n",
       "</style>\n",
       "<table border=\"1\" class=\"dataframe\">\n",
       "  <thead>\n",
       "    <tr style=\"text-align: right;\">\n",
       "      <th></th>\n",
       "      <th>userId</th>\n",
       "      <th>movieId</th>\n",
       "      <th>rating</th>\n",
       "      <th>timestamp</th>\n",
       "    </tr>\n",
       "  </thead>\n",
       "  <tbody>\n",
       "    <tr>\n",
       "      <th>18372267</th>\n",
       "      <td>190691</td>\n",
       "      <td>2058</td>\n",
       "      <td>0.5</td>\n",
       "      <td>1320337878</td>\n",
       "    </tr>\n",
       "    <tr>\n",
       "      <th>5525338</th>\n",
       "      <td>56954</td>\n",
       "      <td>47423</td>\n",
       "      <td>4.0</td>\n",
       "      <td>1267355740</td>\n",
       "    </tr>\n",
       "    <tr>\n",
       "      <th>13438466</th>\n",
       "      <td>139764</td>\n",
       "      <td>1441</td>\n",
       "      <td>1.0</td>\n",
       "      <td>956070951</td>\n",
       "    </tr>\n",
       "    <tr>\n",
       "      <th>18401121</th>\n",
       "      <td>190985</td>\n",
       "      <td>4638</td>\n",
       "      <td>3.5</td>\n",
       "      <td>1406786602</td>\n",
       "    </tr>\n",
       "    <tr>\n",
       "      <th>24217091</th>\n",
       "      <td>251498</td>\n",
       "      <td>5065</td>\n",
       "      <td>2.0</td>\n",
       "      <td>1309509600</td>\n",
       "    </tr>\n",
       "  </tbody>\n",
       "</table>\n",
       "</div>"
      ],
      "text/plain": [
       "          userId  movieId  rating   timestamp\n",
       "18372267  190691     2058     0.5  1320337878\n",
       "5525338    56954    47423     4.0  1267355740\n",
       "13438466  139764     1441     1.0   956070951\n",
       "18401121  190985     4638     3.5  1406786602\n",
       "24217091  251498     5065     2.0  1309509600"
      ]
     },
     "execution_count": 18,
     "metadata": {},
     "output_type": "execute_result"
    }
   ],
   "source": [
    "# kaggle_metadata_df = pd.read_csv('movies_metadata.csv', low_memory = False)\n",
    "ratings_df = pd.read_csv('ratings.csv')\n",
    "ratings_df.sample(n=5)"
   ]
  },
  {
   "cell_type": "code",
   "execution_count": null,
   "id": "648330f0-07d0-4703-a1d6-201550e27631",
   "metadata": {},
   "outputs": [],
   "source": []
  }
 ],
 "metadata": {
  "kernelspec": {
   "display_name": "ucsd_class",
   "language": "python",
   "name": "ucsd_class"
  },
  "language_info": {
   "codemirror_mode": {
    "name": "ipython",
    "version": 3
   },
   "file_extension": ".py",
   "mimetype": "text/x-python",
   "name": "python",
   "nbconvert_exporter": "python",
   "pygments_lexer": "ipython3",
   "version": "3.8.8"
  }
 },
 "nbformat": 4,
 "nbformat_minor": 5
}
